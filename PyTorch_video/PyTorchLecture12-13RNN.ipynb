{
 "cells": [
  {
   "cell_type": "code",
   "execution_count": 7,
   "metadata": {
    "collapsed": true
   },
   "outputs": [],
   "source": [
    "import torch as tc\n",
    "from torch.autograd import Variable\n",
    "from torch.utils.data import DataLoader\n",
    "from torchvision import datasets, transforms"
   ]
  },
  {
   "cell_type": "markdown",
   "metadata": {},
   "source": [
    "**Series** of input -> **Series** of output\n",
    "\n",
    "memories previous data to predict next output."
   ]
  },
  {
   "cell_type": "markdown",
   "metadata": {},
   "source": [
    "RNN Applications: **Series** of data.\n",
    "\n",
    "1. Time series prediction: predict stock prices etc.\n",
    "2. Language modelling (text generation): understand the current sentence from the previous context.\n",
    "3. Text sentiment analysis: \n",
    "4. Named entity recognition\n",
    "5. Translation\n",
    "6. Speech recognition\n",
    "7. Music composition\n",
    "..."
   ]
  },
  {
   "cell_type": "markdown",
   "metadata": {},
   "source": [
    "We need to know\n",
    "1. the number of classes (RNN problem is multiclass classification (i.e., predict one out of five) --> cross entropy.\n",
    "2. input size\n",
    "3. hidden size\n",
    "4. batch size\n",
    "5. sequence length\n",
    "6. number of layer of rnn"
   ]
  },
  {
   "cell_type": "code",
   "execution_count": 29,
   "metadata": {
    "collapsed": true
   },
   "outputs": [],
   "source": [
    "tc.nn.RNN?"
   ]
  },
  {
   "cell_type": "code",
   "execution_count": 16,
   "metadata": {},
   "outputs": [],
   "source": [
    "h = [1,0,0,0]\n",
    "e = [0,1,0,0]\n",
    "l = [0,0,1,0]\n",
    "o = [0,0,0,1]\n"
   ]
  },
  {
   "cell_type": "code",
   "execution_count": null,
   "metadata": {
    "collapsed": true
   },
   "outputs": [],
   "source": [
    "cell = tc.nn.RNN(input_size=5, hidden_size=2, batch_first=True)\n",
    "hidden = Variable(tc.rand(1,1,2))"
   ]
  },
  {
   "cell_type": "code",
   "execution_count": 30,
   "metadata": {},
   "outputs": [
    {
     "data": {
      "text/plain": [
       "\n",
       " 0.7396  0.6669\n",
       " 0.0713  0.3422\n",
       " 0.6559  0.3708\n",
       " 0.7445  0.2546\n",
       " 0.4621  0.8992\n",
       "[torch.FloatTensor of size 5x2]"
      ]
     },
     "execution_count": 30,
     "metadata": {},
     "output_type": "execute_result"
    }
   ],
   "source": [
    "out, hidden = cell(inputs, hidden)"
   ]
  },
  {
   "cell_type": "code",
   "execution_count": null,
   "metadata": {
    "collapsed": true
   },
   "outputs": [],
   "source": []
  },
  {
   "cell_type": "code",
   "execution_count": null,
   "metadata": {
    "collapsed": true
   },
   "outputs": [],
   "source": []
  },
  {
   "cell_type": "code",
   "execution_count": null,
   "metadata": {
    "collapsed": true
   },
   "outputs": [],
   "source": []
  },
  {
   "cell_type": "code",
   "execution_count": null,
   "metadata": {
    "collapsed": true
   },
   "outputs": [],
   "source": []
  },
  {
   "cell_type": "code",
   "execution_count": null,
   "metadata": {
    "collapsed": true
   },
   "outputs": [],
   "source": []
  },
  {
   "cell_type": "code",
   "execution_count": null,
   "metadata": {
    "collapsed": true
   },
   "outputs": [],
   "source": []
  },
  {
   "cell_type": "code",
   "execution_count": null,
   "metadata": {
    "collapsed": true
   },
   "outputs": [],
   "source": []
  },
  {
   "cell_type": "code",
   "execution_count": null,
   "metadata": {
    "collapsed": true
   },
   "outputs": [],
   "source": []
  },
  {
   "cell_type": "code",
   "execution_count": null,
   "metadata": {
    "collapsed": true
   },
   "outputs": [],
   "source": []
  },
  {
   "cell_type": "code",
   "execution_count": 20,
   "metadata": {},
   "outputs": [
    {
     "name": "stdout",
     "output_type": "stream",
     "text": [
      "out \n",
      "(0 ,.,.) = \n",
      " -0.5321  0.8341\n",
      " -0.6972  0.3828\n",
      " -0.8566  0.1909\n",
      " -0.8747 -0.0108\n",
      " -0.8413  0.0851\n",
      "\n",
      "(1 ,.,.) = \n",
      " -0.5717  0.4768\n",
      " -0.7727  0.4956\n",
      " -0.8377  0.2098\n",
      " -0.8731  0.0112\n",
      " -0.8936 -0.1227\n",
      "\n",
      "(2 ,.,.) = \n",
      " -0.7003  0.5813\n",
      " -0.8278  0.2957\n",
      " -0.7957 -0.0793\n",
      " -0.8559 -0.2681\n",
      " -0.9187 -0.2662\n",
      "[torch.FloatTensor of size 3x5x2]\n",
      "\n"
     ]
    }
   ],
   "source": [
    "cell = tc.nn.RNN(input_size=4, hidden_size=2, batch_first=True)\n",
    "# batch_first: If ``True``, then the input and output tensors are provided as (batch, seq, feature)\n",
    "\n",
    "inputs = Variable(tc.Tensor([[h,e,l,l,o],\n",
    "                            [e,o,l,l,l],\n",
    "                            [l,l,e,e,l]]))\n",
    "# input_size: torch.Size([3,5,4]): Batch size, sequence length, one_hot_size\n",
    "\n",
    "hidden = Variable(tc.randn(1,1,2)) # num_layers*num_direction, num_batches, hidden_size\n",
    "out, hidden = cell(inputs, hidden)\n",
    "print(\"out\", out.data)"
   ]
  },
  {
   "cell_type": "code",
   "execution_count": 22,
   "metadata": {},
   "outputs": [
    {
     "data": {
      "text/plain": [
       "torch.Size([3, 5, 4])"
      ]
     },
     "execution_count": 22,
     "metadata": {},
     "output_type": "execute_result"
    }
   ],
   "source": [
    "inputs.shape"
   ]
  },
  {
   "cell_type": "code",
   "execution_count": 25,
   "metadata": {},
   "outputs": [
    {
     "data": {
      "text/plain": [
       "torch.Size([3, 5, 2])"
      ]
     },
     "execution_count": 25,
     "metadata": {},
     "output_type": "execute_result"
    }
   ],
   "source": [
    "out.shape"
   ]
  },
  {
   "cell_type": "code",
   "execution_count": 27,
   "metadata": {},
   "outputs": [
    {
     "data": {
      "text/plain": [
       "torch.Size([1, 3, 2])"
      ]
     },
     "execution_count": 27,
     "metadata": {},
     "output_type": "execute_result"
    }
   ],
   "source": [
    "hidden.shape"
   ]
  },
  {
   "cell_type": "markdown",
   "metadata": {},
   "source": []
  },
  {
   "cell_type": "code",
   "execution_count": null,
   "metadata": {
    "collapsed": true
   },
   "outputs": [],
   "source": []
  }
 ],
 "metadata": {
  "kernelspec": {
   "display_name": "Python 3",
   "language": "python",
   "name": "python3"
  },
  "language_info": {
   "codemirror_mode": {
    "name": "ipython",
    "version": 3
   },
   "file_extension": ".py",
   "mimetype": "text/x-python",
   "name": "python",
   "nbconvert_exporter": "python",
   "pygments_lexer": "ipython3",
   "version": "3.6.3"
  }
 },
 "nbformat": 4,
 "nbformat_minor": 2
}
