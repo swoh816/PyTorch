{
 "cells": [
  {
   "cell_type": "code",
   "execution_count": 1,
   "metadata": {
    "collapsed": true
   },
   "outputs": [],
   "source": [
    "import torch as tc\n",
    "from torch.autograd import Variable"
   ]
  },
  {
   "cell_type": "markdown",
   "metadata": {},
   "source": [
    "# Sequence model and Long-Short Term Memory Networks\n",
    "\n",
    "We'll learn how to use Long-Short Term Memory networks, in short, **LSTM.**\n",
    "\n",
    "Let $h_t$ be the hidden state at time `t`, \n",
    "\n",
    "$c_t$ be the cell state at time `t`,\n",
    "\n",
    "$x_t$ be the hidden state of the previous layer at time `t` or $input_t$ for the first layer, and\n",
    "\n",
    "$i_t$, $f_t$, $g_t$, $o_t$ be the input, forget, update, and out gates, respectively. Then,\n",
    "\n",
    "\n",
    "### 1. Forget gate: \n",
    "$$f_t = \\mathrm{sigmoid}(W_{if} x_t + b_{if} + W_{hf} h_{(t-1)} + b_{hf})$$\n",
    "### 2.1 Input gate 1: Decide which one to update\n",
    "$$i_t = \\mathrm{sigmoid}(W_{ii} x_t + b_{ii} + W_{hi} h_{(t-1)} + b_{hi})$$\n",
    "### 2.2 Input gate 2: Update\n",
    "$$g_t = \\tanh(W_{ig} x_t + b_{ig} + W_{hc} h_{(t-1)} + b_{hg})$$\n",
    "### 3. Update the cell\n",
    "$$c_t = f_t * c_{(t-1)} + i_t * g_t$$\n",
    "### 4. Output\n",
    "$$o_t = \\mathrm{sigmoid}(W_{io} x_t + b_{io} + W_{ho} h_{(t-1)} + b_{ho})\\\\\n",
    "        h_t = o_t * \\tanh(c_t)$$\n",
    "        \n",
    "#### Note: $\\mathrm{sigmoid}$  determines specific element/elements from a vector (i.e., filters a vector), and $\\tanh$ pushes the output between -1 and 1\n",
    "\n",
    "<http://excelsior-cjh.tistory.com/entry/RNN-LSTMLong-Short-Term-Memory-networks>"
   ]
  },
  {
   "cell_type": "markdown",
   "metadata": {},
   "source": [
    "## 1. Learn how to use `tc.nn.LSTM`\n",
    "\n",
    "Pytorch’s LSTM expects all of its inputs to be **3D tensors.** The semantics of the axes of these tensors is important. **The first axis is the sequence itself, the second indexes instances in the mini-batch, and the third indexes elements of the input.** Here, we'll use minibatch size 1 (second dimension size is 1)."
   ]
  },
  {
   "cell_type": "code",
   "execution_count": 243,
   "metadata": {
    "collapsed": true
   },
   "outputs": [],
   "source": [
    "tc.manual_seed(1)\n",
    "inputs = [Variable(tc.randn(1,3)) for i in range(5)]\n",
    "hidden = (Variable(tc.randn(1,1,3)), Variable(tc.randn(1,1,3))) # hidden has two elements: out, hidden."
   ]
  },
  {
   "cell_type": "code",
   "execution_count": 244,
   "metadata": {},
   "outputs": [],
   "source": [
    "for i in inputs:\n",
    "    out, hidden = lstm(i.view(1,1,-1), hidden)"
   ]
  },
  {
   "cell_type": "markdown",
   "metadata": {},
   "source": [
    "You can find out that `out` is the first element of `hidden`."
   ]
  },
  {
   "cell_type": "code",
   "execution_count": 245,
   "metadata": {},
   "outputs": [
    {
     "data": {
      "text/plain": [
       "Variable containing:\n",
       "(0 ,.,.) = \n",
       "  1  1  1\n",
       "[torch.ByteTensor of size 1x1x3]"
      ]
     },
     "execution_count": 245,
     "metadata": {},
     "output_type": "execute_result"
    }
   ],
   "source": [
    "out == hidden[0]"
   ]
  },
  {
   "cell_type": "markdown",
   "metadata": {},
   "source": [
    "It is because `hidden` is composed of two elements: `out` and `hidde` that is passed onto the next hidden layer.\n",
    "\n",
    "You can calculate the entire sequence at once (without using `for loop`) as the following:"
   ]
  },
  {
   "cell_type": "code",
   "execution_count": 246,
   "metadata": {
    "collapsed": true
   },
   "outputs": [],
   "source": [
    "tc.manual_seed(1)\n",
    "inputs = [Variable(tc.randn(1,3)) for i in range(5)]\n",
    "hidden = [Variable(tc.randn(1,3)) for i in range(2)]\n",
    "\n",
    "inputs = tc.cat(inputs).view(len(inputs), 1, -1)\n",
    "hidden = tc.cat(hidden).view(len(hidden), 1, -1)"
   ]
  },
  {
   "cell_type": "code",
   "execution_count": 247,
   "metadata": {
    "collapsed": true
   },
   "outputs": [],
   "source": [
    "out, hidden = lstm(inputs, hidden)"
   ]
  },
  {
   "cell_type": "markdown",
   "metadata": {},
   "source": [
    "## 2. LSTM for Part-of-Speech Tagging\n",
    "\n",
    "In this section, we will use an LSTM to get part of speech tags."
   ]
  },
  {
   "cell_type": "code",
   "execution_count": 232,
   "metadata": {
    "collapsed": true
   },
   "outputs": [],
   "source": [
    "training_data = [\n",
    "    (\"The dog ate the apple\".split(), [\"DET\", \"NN\", \"V\", \"DET\", \"NN\"]),\n",
    "    (\"Everybody read that book\".split(), [\"NN\", \"V\", \"DET\", \"NN\"])\n",
    "]\n",
    "\n",
    "word_to_idx = {}\n",
    "for sent, tags in training_data:\n",
    "    for word in sent:\n",
    "        if word not in word_to_idx:\n",
    "            word_to_idx[word] = len(word_to_idx)\n",
    "tag_to_ix = {\"DET\": 0, \"NN\": 1, \"V\": 2}\n",
    "\n",
    "\n",
    "EMBEDDING_DIM = 6\n",
    "HIDDEN_DIM = 6"
   ]
  },
  {
   "cell_type": "code",
   "execution_count": 233,
   "metadata": {},
   "outputs": [
    {
     "name": "stdout",
     "output_type": "stream",
     "text": [
      "{'The': 0, 'dog': 1, 'ate': 2, 'the': 3, 'apple': 4, 'Everybody': 5, 'read': 6, 'that': 7, 'book': 8}\n"
     ]
    }
   ],
   "source": [
    "print(word_to_idx)"
   ]
  },
  {
   "cell_type": "code",
   "execution_count": null,
   "metadata": {
    "collapsed": true
   },
   "outputs": [],
   "source": [
    "class LSTMTagger(tc.nn.Module):\n",
    "    def __init__(self, embedding_dim, hidden_dim, vocab_size, tagset_size):\n",
    "        super(LSTMTagger, self).__init__()\n",
    "        self.hidden_dim = hidden_dim\n",
    "        self.word_embeddings = tc.nn.Embedding(vocab_size, embedding_dim)\n",
    "        \n",
    "        self.lstm = tc.nn.LSTM(embedding_dim, hidden_dim)\n",
    "        self.hidden2tag = tc.nn.Linear(hidden_dim, tagset_size)\n",
    "        self.hidden = self.init_hidden()\n",
    "        \n",
    "    def init_hidden(self):\n",
    "        return (Variable(tc.zeros(1,1,self.hidden_dim)), Variable(tc.zeros(1,1,self.hidden_dim)))\n",
    "    \n",
    "    def forward(self, x):\n",
    "        self.word_embeddings(x)\n",
    "        out, self.hidden = self.lstm(x, self.hidden)\n",
    "        \n",
    "        tc.nn.functional.log_softmax(x)\n",
    "        return "
   ]
  }
 ],
 "metadata": {
  "kernelspec": {
   "display_name": "Python 3",
   "language": "python",
   "name": "python3"
  },
  "language_info": {
   "codemirror_mode": {
    "name": "ipython",
    "version": 3
   },
   "file_extension": ".py",
   "mimetype": "text/x-python",
   "name": "python",
   "nbconvert_exporter": "python",
   "pygments_lexer": "ipython3",
   "version": "3.6.3"
  }
 },
 "nbformat": 4,
 "nbformat_minor": 2
}
