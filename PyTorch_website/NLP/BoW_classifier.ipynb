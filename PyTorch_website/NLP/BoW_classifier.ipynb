{
 "cells": [
  {
   "cell_type": "code",
   "execution_count": 119,
   "metadata": {
    "collapsed": true
   },
   "outputs": [],
   "source": [
    "import torch as tc\n",
    "import torch.nn.functional as F\n",
    "from torch.autograd import Variable"
   ]
  },
  {
   "cell_type": "markdown",
   "metadata": {},
   "source": [
    "# [Logistic Regression Bag-of-Words classifier](http://pytorch.org/tutorials/beginner/nlp/deep_learning_tutorial.html)\n",
    "\n",
    "Our model will **map a sparse BOW representation to log probabilities over labels.**\n",
    "\n",
    "For example, say our entire vocab is two words “hello” and “world”, with indices 0 and 1 respectively. The BoW vector for the sentence “hello hello hello hello” is\n",
    "$$[4,0]$$\n",
    "For “hello world world hello”, it is\n",
    "$$[2,2]$$\n",
    "etc. In general, it is\n",
    "\n",
    "$$[Count(hello),Count(world)]$$\n",
    "Denote this BOW vector as x.\n",
    "\n",
    "\n",
    "## Bag-of-Words representation\n",
    "First, we assign **each word in the vocab an index.**"
   ]
  },
  {
   "cell_type": "code",
   "execution_count": 133,
   "metadata": {},
   "outputs": [
    {
     "name": "stdout",
     "output_type": "stream",
     "text": [
      "{'me': 0, 'gusta': 1, 'comer': 2, 'en': 3, 'la': 4, 'cafeteria': 5, 'Give': 6, 'it': 7, 'to': 8, 'No': 9, 'creo': 10, 'que': 11, 'sea': 12, 'buena': 13, 'idea': 14, 'is': 15, 'not': 16, 'a': 17, 'good': 18, 'get': 19, 'lost': 20, 'at': 21, 'Yo': 22, 'si': 23, 'on': 24}\n"
     ]
    }
   ],
   "source": [
    "data = [(\"me gusta comer en la cafeteria\".split(), \"SPANISH\"),\n",
    "       (\"Give it to me\".split(), \"ENGLISH\"),\n",
    "       (\"No creo que sea buena idea\".split(), \"SPANISH\"),\n",
    "        (\"No it is not a good idea to get lost at sea\".split(), \"ENGLISH\")]\n",
    "\n",
    "test_data = [(\"Yo creo que si\".split(), \"SPANISH\"),\n",
    "             (\"it is lost on me\".split(), \"ENGLISH\")]\n",
    "\n",
    "word_to_ix = {}\n",
    "for sent, _ in data + test_data:\n",
    "    for word in sent:\n",
    "        if word not in word_to_ix:\n",
    "            word_to_ix[word] = len(word_to_ix)\n",
    "print(word_to_ix)"
   ]
  },
  {
   "cell_type": "markdown",
   "metadata": {},
   "source": [
    "To convert a dictionary of words with indices, we define a function that converts the dictionary to a BoW vector."
   ]
  },
  {
   "cell_type": "code",
   "execution_count": 121,
   "metadata": {
    "collapsed": true
   },
   "outputs": [],
   "source": [
    "def make_bow_vector(sentence, word):\n",
    "    vec = tc.zeros(len(word_to_ix))\n",
    "    for word in sentence:\n",
    "        vec[word_to_ix[word]] += 1\n",
    "    return vec.view(1, -1)\n",
    "\n",
    "def make_target(label, label_to_ix):\n",
    "    return tc.LongTensor([label_to_ix[label]])"
   ]
  },
  {
   "cell_type": "code",
   "execution_count": 122,
   "metadata": {},
   "outputs": [
    {
     "name": "stdout",
     "output_type": "stream",
     "text": [
      "(['me', 'gusta', 'comer', 'en', 'la', 'cafeteria'], 'SPANISH')\n"
     ]
    },
    {
     "data": {
      "text/plain": [
       "\n",
       "\n",
       "Columns 0 to 12 \n",
       "    1     1     1     1     1     1     0     0     0     0     0     0     0\n",
       "\n",
       "Columns 13 to 24 \n",
       "    0     0     0     0     0     0     0     0     0     0     0     0\n",
       "[torch.FloatTensor of size 1x25]"
      ]
     },
     "execution_count": 122,
     "metadata": {},
     "output_type": "execute_result"
    }
   ],
   "source": [
    "test = data[0]\n",
    "print(test)\n",
    "make_bow_vector(test[0], word_to_ix)"
   ]
  },
  {
   "cell_type": "markdown",
   "metadata": {},
   "source": [
    "## Classification of Bag-of-Words vector\n",
    "\n",
    "Denote a BOW vector as $x$. The output of our network is\n",
    "$$logSoftmax(Ax+b)$$\n",
    "That is, we pass the input through an affine map and then do log softmax."
   ]
  },
  {
   "cell_type": "code",
   "execution_count": 210,
   "metadata": {
    "collapsed": true
   },
   "outputs": [],
   "source": [
    "class BoWClassifier(tc.nn.Module):\n",
    "    def __init__(self, len_vocab, n_labels):\n",
    "        super(BoWClassifier, self).__init__()\n",
    "        self.linear = tc.nn.Linear(len_vocab, n_labels)\n",
    "        \n",
    "    def forward(self, x):\n",
    "        return tc.nn.functional.log_softmax(self.linear(x), dim=1)"
   ]
  },
  {
   "cell_type": "code",
   "execution_count": 211,
   "metadata": {},
   "outputs": [
    {
     "name": "stdout",
     "output_type": "stream",
     "text": [
      "Epoch: 0\tBatch: 0\t\n",
      "Epoch: 0\tBatch: 1\t\n",
      "Epoch: 0\tBatch: 2\t\n",
      "Epoch: 0\tBatch: 3\t\n",
      "Epoch: 1\tBatch: 0\t\n",
      "Epoch: 1\tBatch: 1\t\n",
      "Epoch: 1\tBatch: 2\t\n",
      "Epoch: 1\tBatch: 3\t\n",
      "Epoch: 2\tBatch: 0\t\n",
      "Epoch: 2\tBatch: 1\t\n",
      "Epoch: 2\tBatch: 2\t\n",
      "Epoch: 2\tBatch: 3\t\n",
      "Epoch: 3\tBatch: 0\t\n",
      "Epoch: 3\tBatch: 1\t\n",
      "Epoch: 3\tBatch: 2\t\n",
      "Epoch: 3\tBatch: 3\t\n",
      "Epoch: 4\tBatch: 0\t\n",
      "Epoch: 4\tBatch: 1\t\n",
      "Epoch: 4\tBatch: 2\t\n",
      "Epoch: 4\tBatch: 3\t\n",
      "Epoch: 5\tBatch: 0\t\n",
      "Epoch: 5\tBatch: 1\t\n",
      "Epoch: 5\tBatch: 2\t\n",
      "Epoch: 5\tBatch: 3\t\n",
      "Epoch: 6\tBatch: 0\t\n",
      "Epoch: 6\tBatch: 1\t\n",
      "Epoch: 6\tBatch: 2\t\n",
      "Epoch: 6\tBatch: 3\t\n",
      "Epoch: 7\tBatch: 0\t\n",
      "Epoch: 7\tBatch: 1\t\n",
      "Epoch: 7\tBatch: 2\t\n",
      "Epoch: 7\tBatch: 3\t\n",
      "Epoch: 8\tBatch: 0\t\n",
      "Epoch: 8\tBatch: 1\t\n",
      "Epoch: 8\tBatch: 2\t\n",
      "Epoch: 8\tBatch: 3\t\n",
      "Epoch: 9\tBatch: 0\t\n",
      "Epoch: 9\tBatch: 1\t\n",
      "Epoch: 9\tBatch: 2\t\n",
      "Epoch: 9\tBatch: 3\t\n"
     ]
    }
   ],
   "source": [
    "len_vocab = len(word_to_ix)\n",
    "len_labels = 2\n",
    "\n",
    "label_to_ix = {\"SPANISH\": 0, \"ENGLISH\": 1}\n",
    "\n",
    "model = BoWClassifier(len_vocab, len_labels)\n",
    "criterion = tc.nn.NLLLoss()\n",
    "optimizer = tc.optim.SGD(model.parameters(), lr=0.1)\n",
    "# tc.manual_seed(1)\n",
    "\n",
    "for epoch in range(10):\n",
    "    model.train()\n",
    "    for batch_idx, (sentence, label) in enumerate(data):\n",
    "        sentence, label = Variable(make_bow_vector(sentence, word_to_ix)), Variable(make_target(label, label_to_ix))\n",
    "        label_pred = model(sentence)\n",
    "        loss = criterion(label_pred, label)\n",
    "        \n",
    "        optimizer.zero_grad()\n",
    "        loss.backward()\n",
    "        optimizer.step()\n",
    "        \n",
    "        print(\"Epoch: {}\\tBatch: {}\\t\".format(epoch, batch_idx))\n"
   ]
  },
  {
   "cell_type": "code",
   "execution_count": 212,
   "metadata": {},
   "outputs": [
    {
     "name": "stdout",
     "output_type": "stream",
     "text": [
      "Variable containing:\n",
      "-0.2654 -1.4561\n",
      "[torch.FloatTensor of size 1x2]\n",
      "\n",
      "Variable containing:\n",
      "-1.4978 -0.2531\n",
      "[torch.FloatTensor of size 1x2]\n",
      "\n"
     ]
    }
   ],
   "source": [
    "for instance, label in test_data:\n",
    "    bow_vec = Variable(make_bow_vector(instance, word_to_ix))\n",
    "    log_probs = model(bow_vec)\n",
    "    print(log_probs)    "
   ]
  }
 ],
 "metadata": {
  "kernelspec": {
   "display_name": "Python 3",
   "language": "python",
   "name": "python3"
  },
  "language_info": {
   "codemirror_mode": {
    "name": "ipython",
    "version": 3
   },
   "file_extension": ".py",
   "mimetype": "text/x-python",
   "name": "python",
   "nbconvert_exporter": "python",
   "pygments_lexer": "ipython3",
   "version": "3.6.3"
  }
 },
 "nbformat": 4,
 "nbformat_minor": 2
}
