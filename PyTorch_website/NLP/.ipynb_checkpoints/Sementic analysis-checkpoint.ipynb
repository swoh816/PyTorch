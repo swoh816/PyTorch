{
 "cells": [
  {
   "cell_type": "code",
   "execution_count": 1,
   "metadata": {
    "collapsed": true
   },
   "outputs": [],
   "source": [
    "import torch as tc\n",
    "from torch.autograd import Variable"
   ]
  },
  {
   "cell_type": "markdown",
   "metadata": {},
   "source": [
    "# Sementic analysis and word embeddings\n",
    "\n",
    "Here, we investigate **semantic similarity** based on the **distributional hypothesis**: words appearing in similar contexts are related to each other semantically.\n",
    "\n",
    "\n",
    "## Word embeddings\n",
    "\n",
    "Word embeddings are a **representation of the semantics of a word**: efficiently **encoding semantic information** that may be relavant to the task at hand.\n",
    "\n",
    "Embeddings are stored as a **$|V|×D$ matrix**, where $D$ is the dimensionality of the embeddings, such that the word assigned index $i$ has its embedding stored in the $i$‘th row of the matrix. "
   ]
  },
  {
   "cell_type": "code",
   "execution_count": 4,
   "metadata": {},
   "outputs": [
    {
     "name": "stdout",
     "output_type": "stream",
     "text": [
      "Variable containing:\n",
      " 0.6614  0.2669  0.0617  0.6213 -0.4519\n",
      "[torch.FloatTensor of size 1x5]\n",
      "\n"
     ]
    }
   ],
   "source": [
    "tc.manual_seed(1)\n",
    "\n",
    "# Mapping from word to index\n",
    "word_to_ix = {\"hello\": 0, \"world\": 1}\n",
    "\n",
    "embeds = tc.nn.Embedding(2, 5)\n",
    "lookup_tensor = tc.LongTensor([word_to_ix[\"hello\"]])\n",
    "hello_embed = embeds(Variable(lookup_tensor))\n",
    "print(hello_embed)"
   ]
  },
  {
   "cell_type": "markdown",
   "metadata": {},
   "source": [
    "## N-Gram Language modelling"
   ]
  },
  {
   "cell_type": "code",
   "execution_count": 10,
   "metadata": {
    "collapsed": true
   },
   "outputs": [],
   "source": [
    "test_sentence = \"\"\"When forty winters shall besiege thy brow,\n",
    "And dig deep trenches in thy beauty's field,\n",
    "Thy youth's proud livery so gazed on now,\n",
    "Will be a totter'd weed of small worth held:\n",
    "Then being asked, where all thy beauty lies,\n",
    "Where all the treasure of thy lusty days;\n",
    "To say, within thine own deep sunken eyes,\n",
    "Were an all-eating shame, and thriftless praise.\n",
    "How much more praise deserv'd thy beauty's use,\n",
    "If thou couldst answer 'This fair child of mine\n",
    "Shall sum my count, and make my old excuse,'\n",
    "Proving his beauty by succession thine!\n",
    "This were to be new made when thou art old,\n",
    "And see thy blood warm when thou feel'st it cold.\"\"\".split()"
   ]
  },
  {
   "cell_type": "code",
   "execution_count": 15,
   "metadata": {
    "collapsed": true
   },
   "outputs": [],
   "source": [
    "trigrams = [([test_sentence[i], test_sentence[i+1]], test_sentence[i+2]) for i in range(len(test_sentence)-2)]"
   ]
  },
  {
   "cell_type": "code",
   "execution_count": 20,
   "metadata": {},
   "outputs": [
    {
     "name": "stdout",
     "output_type": "stream",
     "text": [
      "[(['When', 'forty'], 'winters'), (['forty', 'winters'], 'shall'), (['winters', 'shall'], 'besiege')]\n"
     ]
    }
   ],
   "source": [
    "print(trigrams[:3])"
   ]
  },
  {
   "cell_type": "code",
   "execution_count": 38,
   "metadata": {
    "collapsed": true
   },
   "outputs": [],
   "source": [
    "vocab = set(test_sentence)\n",
    "word_to_ix = {word: idx for idx, word in enumerate(vocab)}"
   ]
  },
  {
   "cell_type": "code",
   "execution_count": 85,
   "metadata": {},
   "outputs": [
    {
     "name": "stdout",
     "output_type": "stream",
     "text": [
      "torch.Size([128, 20])\n",
      "torch.Size([128])\n",
      "torch.Size([97, 128])\n",
      "torch.Size([97])\n"
     ]
    }
   ],
   "source": [
    "print(list(model.parameters())[1].shape)\n",
    "print(list(model.parameters())[2].shape)\n",
    "print(list(model.parameters())[3].shape)\n",
    "print(list(model.parameters())[4].shape)"
   ]
  },
  {
   "cell_type": "code",
   "execution_count": null,
   "metadata": {
    "collapsed": true
   },
   "outputs": [],
   "source": [
    "class NGramLanguageModeler(tc.nn.Module):\n",
    "    def __init__(self, vocab_size, embedding_dim, context_size):\n",
    "        super(NGramLanguageModeler, self).__init__()\n",
    "        self.embedding = tc.nn.Embedding(vocab_size, embedding_dim)\n",
    "        self.linear1 = tc.nn.Linear(context_size*embedding_dim, 128)\n",
    "        self.linear2 = tc.nn.Linear(128, vocab_size)\n",
    "        \n",
    "    def forward(self, x):\n",
    "        embeds = self.embedding(x).view((1, -1))\n",
    "        out = tc.nn.functional.relu(self.linear1(embeds))\n",
    "        out = self.linear2(out)\n",
    "        log_probs = tc.nn.functional.log_softmax(out, dim=1)\n",
    "        return log_probs\n",
    "    \n",
    "losses = []\n",
    "criterion = tc.nn.NLLLoss()\n",
    "\n",
    "EMBEDDING_DIM = 10\n",
    "CONTEXT_SIZE = 2\n",
    "\n",
    "\n",
    "model = NGramLanguageModeler(len(vocab), EMBEDDING_DIM, CONTEXT_SIZE)\n",
    "optimizer = tc.optim.SGD(model.parameters(), lr=0.001)\n",
    "\n",
    "for epoch in range(1000):\n",
    "    total_loss = tc.Tensor([0])\n",
    "    for context, target in trigrams:\n",
    "        context_idx = [word_to_ix[w] for w in context]\n",
    "        context_var = Variable(tc.LongTensor(context_idx))\n",
    "        \n",
    "        model.zero_grad()\n",
    "        log_probs = model(context_var)\n",
    "        \n",
    "        loss = criterion(log_probs, Variable(tc.LongTensor([word_to_ix[target]])))\n",
    "        loss.backward()\n",
    "        optimizer.step()\n",
    "        total_loss += loss.data\n",
    "    losses.append(total_loss)\n",
    "    if epoch%50 == 0:\n",
    "        print(\"epoch: {}\".format(epoch))\n",
    "print(losses)"
   ]
  },
  {
   "cell_type": "code",
   "execution_count": 67,
   "metadata": {
    "collapsed": true
   },
   "outputs": [],
   "source": [
    "tc.nn.Module.parameters?"
   ]
  },
  {
   "cell_type": "code",
   "execution_count": 86,
   "metadata": {},
   "outputs": [
    {
     "data": {
      "text/plain": [
       "torch.Size([97, 10])"
      ]
     },
     "execution_count": 86,
     "metadata": {},
     "output_type": "execute_result"
    }
   ],
   "source": [
    "list(model.parameters())[0].shape # Word embeddings: |V|*D where |V|:number_of_vocabs, D:embedding_dimension"
   ]
  },
  {
   "cell_type": "code",
   "execution_count": null,
   "metadata": {
    "collapsed": true
   },
   "outputs": [],
   "source": []
  }
 ],
 "metadata": {
  "kernelspec": {
   "display_name": "Python 3",
   "language": "python",
   "name": "python3"
  },
  "language_info": {
   "codemirror_mode": {
    "name": "ipython",
    "version": 3
   },
   "file_extension": ".py",
   "mimetype": "text/x-python",
   "name": "python",
   "nbconvert_exporter": "python",
   "pygments_lexer": "ipython3",
   "version": "3.6.3"
  }
 },
 "nbformat": 4,
 "nbformat_minor": 2
}
