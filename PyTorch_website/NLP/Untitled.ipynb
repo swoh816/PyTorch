{
 "cells": [
  {
   "cell_type": "markdown",
   "metadata": {},
   "source": [
    "# Sementic analysis and word embeddings\n",
    "\n",
    "Here, we investigate **semantic similarity** based on the **distributional hypothesis**: words appearing in similar contexts are related to each other semantically.\n",
    "\n",
    "\n",
    "## Word embeddings\n",
    "\n",
    "Word embeddings are a **representation of the semantics of a word**: efficiently **encoding semantic information** that may be relavant to the task at hand."
   ]
  },
  {
   "cell_type": "code",
   "execution_count": null,
   "metadata": {
    "collapsed": true
   },
   "outputs": [],
   "source": []
  }
 ],
 "metadata": {
  "kernelspec": {
   "display_name": "Python 3",
   "language": "python",
   "name": "python3"
  },
  "language_info": {
   "codemirror_mode": {
    "name": "ipython",
    "version": 3
   },
   "file_extension": ".py",
   "mimetype": "text/x-python",
   "name": "python",
   "nbconvert_exporter": "python",
   "pygments_lexer": "ipython3",
   "version": "3.6.3"
  }
 },
 "nbformat": 4,
 "nbformat_minor": 2
}
