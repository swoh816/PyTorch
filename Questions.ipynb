{
 "cells": [
  {
   "cell_type": "markdown",
   "metadata": {},
   "source": [
    "# Questions"
   ]
  },
  {
   "cell_type": "code",
   "execution_count": null,
   "metadata": {
    "collapsed": true
   },
   "outputs": [],
   "source": []
  },
  {
   "cell_type": "code",
   "execution_count": 6,
   "metadata": {
    "collapsed": true
   },
   "outputs": [],
   "source": [
    "tc.nn.MSELoss?"
   ]
  },
  {
   "cell_type": "code",
   "execution_count": 32,
   "metadata": {
    "scrolled": false
   },
   "outputs": [
    {
     "name": "stdout",
     "output_type": "stream",
     "text": [
      "[Parameter containing:\n",
      " 1.9998\n",
      "[torch.FloatTensor of size 1x1]\n",
      ", Parameter containing:\n",
      "1.00000e-04 *\n",
      "  5.6663\n",
      "[torch.FloatTensor of size 1]\n",
      "]\n"
     ]
    },
    {
     "data": {
      "text/plain": [
       "Variable containing:\n",
       " 2.0003\n",
       " 4.0001\n",
       " 5.9998\n",
       "[torch.FloatTensor of size 3x1]"
      ]
     },
     "execution_count": 32,
     "metadata": {},
     "output_type": "execute_result"
    }
   ],
   "source": [
    "import torch as tc\n",
    "from torch.autograd import Variable\n",
    "\n",
    "class Model(tc.nn.Module):\n",
    "    def __init__(self):        \n",
    "        super(Model, self).__init__()\n",
    "        self.linear = tc.nn.Linear(1,1) # Don't understand the output of linear. weight and bias\n",
    "                \n",
    "    def forward(self, x):\n",
    "        return self.linear(x)\n",
    "\n",
    "    \n",
    "model = Model()\n",
    "x_data = Variable(tc.Tensor([[1.0], [2.0], [3.0]]))\n",
    "y_data = Variable(tc.Tensor([[2.0], [4.0], [6.0]]))\n",
    "\n",
    "criterion = tc.nn.MSELoss(size_average=False) # Why not True?\n",
    "optimizer = tc.optim.SGD(model.parameters(), lr=0.01) # How to check which patches are chosen? -- DataLoader predetermines batch ize\n",
    "\n",
    "\n",
    "for epoch in range(1000):\n",
    "    y_pred = model(x_data) # why not y_pred = model.forward(x_data)\n",
    "    loss = criterion(y_pred, y_data)\n",
    "\n",
    "    optimizer.zero_grad() # Why before backprop?\n",
    "    loss.backward()\n",
    "    # How to check my gradients? print(model.parameters()?)\n",
    "    optimizer.step()\n",
    "\n",
    "\n",
    "    \n",
    "print(list(model.parameters())) # What's the second parameter? bias term?\n",
    "y_pred.abs()"
   ]
  },
  {
   "cell_type": "code",
   "execution_count": null,
   "metadata": {
    "collapsed": true
   },
   "outputs": [],
   "source": [
    "# For logistic regression:\n",
    "    def forward(self, x):\n",
    "        return tc.nn.functional.tanh(self.linear(x))\n",
    "        # Error if I try tanh or relu. why?"
   ]
  },
  {
   "cell_type": "code",
   "execution_count": 65,
   "metadata": {},
   "outputs": [
    {
     "data": {
      "text/plain": [
       "2.1974761486053467"
      ]
     },
     "execution_count": 65,
     "metadata": {},
     "output_type": "execute_result"
    }
   ],
   "source": [
    "y_pred.data[0][0]"
   ]
  },
  {
   "cell_type": "code",
   "execution_count": null,
   "metadata": {
    "collapsed": true
   },
   "outputs": [],
   "source": [
    "class Model(tc.nn.Module):\n",
    "    def __init__(self):\n",
    "        super(Model, self).__init__()\n",
    "        \"\"\"\n",
    "        In the constructor we instantiate two nn.Linear module. WHAT??\n",
    "        \"\"\"\n",
    "        self.l1 = tc.nn.Linear(8,6)\n",
    "        self.l2 = tc.nn.Linear(6,4)\n",
    "        self.l3 = tc.nn.Linear(6,1)\n",
    "        \n",
    "        self.sigmoid = tc.nn.Sigmoid()\n",
    "        # WHY NOT self.sigmoid = tc.nn.functional.sigmoid?"
   ]
  }
 ],
 "metadata": {
  "kernelspec": {
   "display_name": "Python 3",
   "language": "python",
   "name": "python3"
  },
  "language_info": {
   "codemirror_mode": {
    "name": "ipython",
    "version": 3
   },
   "file_extension": ".py",
   "mimetype": "text/x-python",
   "name": "python",
   "nbconvert_exporter": "python",
   "pygments_lexer": "ipython3",
   "version": "3.6.3"
  }
 },
 "nbformat": 4,
 "nbformat_minor": 2
}
