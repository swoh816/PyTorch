{
 "cells": [
  {
   "cell_type": "markdown",
   "metadata": {},
   "source": [
    "# Getting started\n",
    "\n",
    "\n",
    "## 1. Basics and Tips\n",
    "### 1.1 Matrix handling"
   ]
  },
  {
   "cell_type": "code",
   "execution_count": 1,
   "metadata": {
    "collapsed": true
   },
   "outputs": [],
   "source": [
    "import torch as tc\n",
    "import numpy as np"
   ]
  },
  {
   "cell_type": "markdown",
   "metadata": {},
   "source": [
    "**Uninitalized** matrix"
   ]
  },
  {
   "cell_type": "code",
   "execution_count": 2,
   "metadata": {},
   "outputs": [
    {
     "name": "stdout",
     "output_type": "stream",
     "text": [
      "\n",
      "-1.6095e+38  4.5761e-41 -1.6095e+38\n",
      " 4.5761e-41  1.6255e-43  1.3873e-43\n",
      " 6.4460e-44  1.1771e-43  1.4153e-43\n",
      " 1.5414e-43  1.6115e-43  1.5554e-43\n",
      " 1.5975e-43  5.6052e-44  7.4269e-44\n",
      "[torch.FloatTensor of size 5x3]\n",
      "\n",
      "Size:  torch.Size([5, 3])\n"
     ]
    }
   ],
   "source": [
    "x = tc.Tensor(5,3)\n",
    "print(x)\n",
    "print('Size: ', x.size())"
   ]
  },
  {
   "cell_type": "markdown",
   "metadata": {},
   "source": [
    "Randomly **initialized** matrix"
   ]
  },
  {
   "cell_type": "code",
   "execution_count": 3,
   "metadata": {},
   "outputs": [
    {
     "name": "stdout",
     "output_type": "stream",
     "text": [
      "\n",
      " 0.6809  0.1392  0.0959\n",
      " 0.2382  0.5426  0.3385\n",
      " 0.0009  0.3214  0.5960\n",
      " 0.1190  0.8892  0.6610\n",
      " 0.4787  0.5911  0.5950\n",
      "[torch.FloatTensor of size 5x3]\n",
      "\n",
      "Size:  torch.Size([5, 3])\n"
     ]
    }
   ],
   "source": [
    "y = tc.rand(5,3)\n",
    "print(y)\n",
    "print('Size: ', y.size())"
   ]
  },
  {
   "cell_type": "markdown",
   "metadata": {},
   "source": [
    "Resize a matrix using `torch.view`"
   ]
  },
  {
   "cell_type": "code",
   "execution_count": 4,
   "metadata": {},
   "outputs": [
    {
     "name": "stdout",
     "output_type": "stream",
     "text": [
      "\n",
      "-1.6095e+38\n",
      " 4.5761e-41\n",
      "-1.6095e+38\n",
      " 4.5761e-41\n",
      " 1.6255e-43\n",
      " 1.3873e-43\n",
      " 6.4460e-44\n",
      " 1.1771e-43\n",
      " 1.4153e-43\n",
      " 1.5414e-43\n",
      " 1.6115e-43\n",
      " 1.5554e-43\n",
      " 1.5975e-43\n",
      " 5.6052e-44\n",
      " 7.4269e-44\n",
      "[torch.FloatTensor of size 15]\n",
      "\n",
      "\n",
      "\n",
      "Columns 0 to 5 \n",
      "-1.6095e+38  4.5761e-41 -1.6095e+38  4.5761e-41  1.6255e-43  1.3873e-43\n",
      "\n",
      "Columns 6 to 11 \n",
      " 6.4460e-44  1.1771e-43  1.4153e-43  1.5414e-43  1.6115e-43  1.5554e-43\n",
      "\n",
      "Columns 12 to 14 \n",
      " 1.5975e-43  5.6052e-44  7.4269e-44\n",
      "[torch.FloatTensor of size 1x15]\n",
      "\n"
     ]
    }
   ],
   "source": [
    "print(x.view(15))\n",
    "print(x.view(-1,15))"
   ]
  },
  {
   "cell_type": "markdown",
   "metadata": {},
   "source": [
    "### 1.2 Operations"
   ]
  },
  {
   "cell_type": "markdown",
   "metadata": {},
   "source": [
    "The following three operations return the same result"
   ]
  },
  {
   "cell_type": "code",
   "execution_count": 5,
   "metadata": {},
   "outputs": [
    {
     "name": "stdout",
     "output_type": "stream",
     "text": [
      "\n",
      "-1.6095e+38  1.3920e-01 -1.6095e+38\n",
      " 2.3821e-01  5.4263e-01  3.3845e-01\n",
      " 9.2721e-04  3.2140e-01  5.9603e-01\n",
      " 1.1899e-01  8.8922e-01  6.6103e-01\n",
      " 4.7867e-01  5.9112e-01  5.9498e-01\n",
      "[torch.FloatTensor of size 5x3]\n",
      "\n",
      "\n",
      "-1.6095e+38  1.3920e-01 -1.6095e+38\n",
      " 2.3821e-01  5.4263e-01  3.3845e-01\n",
      " 9.2721e-04  3.2140e-01  5.9603e-01\n",
      " 1.1899e-01  8.8922e-01  6.6103e-01\n",
      " 4.7867e-01  5.9112e-01  5.9498e-01\n",
      "[torch.FloatTensor of size 5x3]\n",
      "\n"
     ]
    },
    {
     "data": {
      "text/plain": [
       "\n",
       "-1.6095e+38  1.3920e-01 -1.6095e+38\n",
       " 2.3821e-01  5.4263e-01  3.3845e-01\n",
       " 9.2721e-04  3.2140e-01  5.9603e-01\n",
       " 1.1899e-01  8.8922e-01  6.6103e-01\n",
       " 4.7867e-01  5.9112e-01  5.9498e-01\n",
       "[torch.FloatTensor of size 5x3]"
      ]
     },
     "execution_count": 5,
     "metadata": {},
     "output_type": "execute_result"
    }
   ],
   "source": [
    "print(tc.add(x,y))\n",
    "print(y.add(x))\n",
    "x+y"
   ]
  },
  {
   "cell_type": "markdown",
   "metadata": {},
   "source": [
    "The following two operations are identical"
   ]
  },
  {
   "cell_type": "code",
   "execution_count": 6,
   "metadata": {},
   "outputs": [
    {
     "name": "stdout",
     "output_type": "stream",
     "text": [
      "\n",
      "-1.6095e+38  1.3920e-01 -1.6095e+38\n",
      " 2.3821e-01  5.4263e-01  3.3845e-01\n",
      " 9.2721e-04  3.2140e-01  5.9603e-01\n",
      " 1.1899e-01  8.8922e-01  6.6103e-01\n",
      " 4.7867e-01  5.9112e-01  5.9498e-01\n",
      "[torch.FloatTensor of size 5x3]\n",
      "\n",
      "\n",
      "-1.6095e+38  1.3920e-01 -1.6095e+38\n",
      " 2.3821e-01  5.4263e-01  3.3845e-01\n",
      " 9.2721e-04  3.2140e-01  5.9603e-01\n",
      " 1.1899e-01  8.8922e-01  6.6103e-01\n",
      " 4.7867e-01  5.9112e-01  5.9498e-01\n",
      "[torch.FloatTensor of size 5x3]\n",
      "\n"
     ]
    }
   ],
   "source": [
    "# Simple addition\n",
    "result1 = x + y\n",
    "print(result1)\n",
    "\n",
    "# Specify output\n",
    "result2 = tc.Tensor(5,3)\n",
    "y.add(x, out=result2)\n",
    "print(result2)"
   ]
  },
  {
   "cell_type": "markdown",
   "metadata": {},
   "source": [
    "Any operation that **mutates a tensor in-place** is post-fixed with an `_`."
   ]
  },
  {
   "cell_type": "code",
   "execution_count": 7,
   "metadata": {},
   "outputs": [
    {
     "name": "stdout",
     "output_type": "stream",
     "text": [
      "\n",
      " 0.9335  0.4890  0.0745\n",
      " 0.7244  0.1375  0.3612\n",
      " 0.4178  0.6260  0.8462\n",
      " 0.2086  0.9623  0.5940\n",
      " 0.6148  0.8552  0.8698\n",
      "[torch.FloatTensor of size 5x3]\n",
      "\n",
      "\n",
      " 0.9604  0.0828  0.4356\n",
      " 0.4928  0.3936  0.5411\n",
      " 0.8606  0.2652  0.3015\n",
      " 0.6810  0.6498  0.4698\n",
      " 0.9536  0.3044  0.4948\n",
      "[torch.FloatTensor of size 5x3]\n",
      "\n",
      "\n",
      " 1.8939  0.5718  0.5101\n",
      " 1.2172  0.5311  0.9022\n",
      " 1.2783  0.8912  1.1477\n",
      " 0.8896  1.6121  1.0637\n",
      " 1.5685  1.1596  1.3647\n",
      "[torch.FloatTensor of size 5x3]\n",
      "\n"
     ]
    }
   ],
   "source": [
    "x = tc.rand(5,3)\n",
    "y = tc.rand(5,3)\n",
    "print(x)\n",
    "print(y)\n",
    "y.add_(x)\n",
    "print(y)"
   ]
  },
  {
   "cell_type": "markdown",
   "metadata": {},
   "source": [
    "### 1.3 Conversion between NumPy and Torch"
   ]
  },
  {
   "cell_type": "code",
   "execution_count": 8,
   "metadata": {},
   "outputs": [
    {
     "name": "stdout",
     "output_type": "stream",
     "text": [
      "\n",
      " 1\n",
      " 1\n",
      " 1\n",
      " 1\n",
      " 1\n",
      "[torch.FloatTensor of size 5]\n",
      " [ 1.  1.  1.  1.  1.]\n"
     ]
    }
   ],
   "source": [
    "a = tc.ones(5)\n",
    "b = a.numpy()\n",
    "print(a, b)"
   ]
  },
  {
   "cell_type": "markdown",
   "metadata": {},
   "source": [
    "Modifications on the original torch matrix will also apply to the numpy array."
   ]
  },
  {
   "cell_type": "code",
   "execution_count": 9,
   "metadata": {},
   "outputs": [
    {
     "name": "stdout",
     "output_type": "stream",
     "text": [
      "[ 4.  4.  4.  4.  4.]\n"
     ]
    }
   ],
   "source": [
    "a.add_(3)\n",
    "print(b)"
   ]
  },
  {
   "cell_type": "code",
   "execution_count": 10,
   "metadata": {},
   "outputs": [
    {
     "name": "stdout",
     "output_type": "stream",
     "text": [
      "[ 1.  1.  1.  1.  1.] \n",
      " 1\n",
      " 1\n",
      " 1\n",
      " 1\n",
      " 1\n",
      "[torch.DoubleTensor of size 5]\n",
      "\n"
     ]
    }
   ],
   "source": [
    "a = np.ones(5)\n",
    "b = tc.from_numpy(a)\n",
    "print(a,b)"
   ]
  },
  {
   "cell_type": "markdown",
   "metadata": {},
   "source": [
    "Operations on the original numpy matrix will also apply to the torch matrix."
   ]
  },
  {
   "cell_type": "code",
   "execution_count": 11,
   "metadata": {},
   "outputs": [
    {
     "name": "stdout",
     "output_type": "stream",
     "text": [
      "[ 2.  2.  2.  2.  2.] \n",
      " 2\n",
      " 2\n",
      " 2\n",
      " 2\n",
      " 2\n",
      "[torch.DoubleTensor of size 5]\n",
      "\n"
     ]
    }
   ],
   "source": [
    "np.add(a, 1, out=a)\n",
    "print(a, b)"
   ]
  },
  {
   "cell_type": "markdown",
   "metadata": {},
   "source": [
    "## 2. Variable and gradients\n",
    "\n",
    "`PyTorch` uses `torch.autograd.Variable` for variable, **on which you can define all of operations.**\n",
    "\n",
    "### 2.1 Variable"
   ]
  },
  {
   "cell_type": "code",
   "execution_count": 12,
   "metadata": {
    "collapsed": true
   },
   "outputs": [],
   "source": [
    "import torch\n",
    "from torch.autograd import Variable"
   ]
  },
  {
   "cell_type": "code",
   "execution_count": 13,
   "metadata": {},
   "outputs": [
    {
     "name": "stdout",
     "output_type": "stream",
     "text": [
      "Variable containing:\n",
      " 1  1\n",
      " 1  1\n",
      "[torch.FloatTensor of size 2x2]\n",
      "\n"
     ]
    }
   ],
   "source": [
    "x = Variable(torch.ones(2,2), requires_grad = True)\n",
    "print(x)"
   ]
  },
  {
   "cell_type": "code",
   "execution_count": 14,
   "metadata": {},
   "outputs": [
    {
     "name": "stdout",
     "output_type": "stream",
     "text": [
      "Variable containing:\n",
      " 3  3\n",
      " 3  3\n",
      "[torch.FloatTensor of size 2x2]\n",
      "\n"
     ]
    }
   ],
   "source": [
    "y = x + 2\n",
    "print(y)"
   ]
  },
  {
   "cell_type": "markdown",
   "metadata": {},
   "source": [
    "Since `y` is created as a result of an operation on a variable, it has a `grad_fn`"
   ]
  },
  {
   "cell_type": "code",
   "execution_count": 15,
   "metadata": {},
   "outputs": [
    {
     "name": "stdout",
     "output_type": "stream",
     "text": [
      "<AddBackward0 object at 0x7f9098137c88>\n"
     ]
    }
   ],
   "source": [
    "print(y.grad_fn)"
   ]
  },
  {
   "cell_type": "markdown",
   "metadata": {},
   "source": [
    "whereas `x` does not have `grad_fn` because it is not created by a `Function`."
   ]
  },
  {
   "cell_type": "code",
   "execution_count": 16,
   "metadata": {},
   "outputs": [
    {
     "name": "stdout",
     "output_type": "stream",
     "text": [
      "None\n"
     ]
    }
   ],
   "source": [
    "print(x.grad_fn)"
   ]
  },
  {
   "cell_type": "code",
   "execution_count": 17,
   "metadata": {},
   "outputs": [
    {
     "name": "stdout",
     "output_type": "stream",
     "text": [
      "Variable containing:\n",
      " 27  27\n",
      " 27  27\n",
      "[torch.FloatTensor of size 2x2]\n",
      " Variable containing:\n",
      " 27\n",
      "[torch.FloatTensor of size 1]\n",
      "\n"
     ]
    }
   ],
   "source": [
    "z = y*y*3\n",
    "out = z.mean()\n",
    "print(z, out)"
   ]
  },
  {
   "cell_type": "markdown",
   "metadata": {},
   "source": [
    "### 2.2 Gradients\n",
    "\n",
    "You can calculate the derivative of `out` with respect to `x`."
   ]
  },
  {
   "cell_type": "code",
   "execution_count": 18,
   "metadata": {},
   "outputs": [],
   "source": [
    "out.backward()"
   ]
  },
  {
   "cell_type": "code",
   "execution_count": 19,
   "metadata": {},
   "outputs": [
    {
     "name": "stdout",
     "output_type": "stream",
     "text": [
      "Variable containing:\n",
      " 4.5000  4.5000\n",
      " 4.5000  4.5000\n",
      "[torch.FloatTensor of size 2x2]\n",
      "\n"
     ]
    }
   ],
   "source": [
    "print(x.grad)"
   ]
  },
  {
   "cell_type": "code",
   "execution_count": 20,
   "metadata": {},
   "outputs": [
    {
     "name": "stdout",
     "output_type": "stream",
     "text": [
      "Variable containing:\n",
      " 0.2761\n",
      " 0.2553\n",
      " 1.5635\n",
      "[torch.FloatTensor of size 3]\n",
      "\n",
      "Variable containing:\n",
      " 2.0948\n",
      "[torch.FloatTensor of size 1]\n",
      "\n",
      "Variable containing:\n",
      " 1.6080\n",
      "[torch.FloatTensor of size 1]\n",
      "\n",
      "1.608043232134733\n",
      "Variable containing:\n",
      "  282.7446\n",
      "  261.3881\n",
      " 1600.9818\n",
      "[torch.FloatTensor of size 3]\n",
      "\n"
     ]
    }
   ],
   "source": [
    "x = torch.rand(3)\n",
    "x = Variable(x, requires_grad = True)\n",
    "y = x*2\n",
    "print(y)\n",
    "print(y.norm(p = 1)) # L1 norm (x1 + x2 + x3)\n",
    "print(y.norm(p = 2)) # L2 norm (sqrt(x1**2 + x2**2 + x3**2))\n",
    "print(y.data.norm())\n",
    "while y.data.norm() < 1000:\n",
    "    y = y*2\n",
    "print(y)"
   ]
  },
  {
   "cell_type": "code",
   "execution_count": 21,
   "metadata": {},
   "outputs": [
    {
     "name": "stdout",
     "output_type": "stream",
     "text": [
      "Variable containing:\n",
      "  204.8000\n",
      " 2048.0000\n",
      "    0.2048\n",
      "[torch.FloatTensor of size 3]\n",
      "\n"
     ]
    }
   ],
   "source": [
    "gradients = torch.FloatTensor([0.1, 1.0, 0.0001])\n",
    "y.backward(gradients)\n",
    "\n",
    "print(x.grad)"
   ]
  }
 ],
 "metadata": {
  "kernelspec": {
   "display_name": "Python 3",
   "language": "python",
   "name": "python3"
  },
  "language_info": {
   "codemirror_mode": {
    "name": "ipython",
    "version": 3
   },
   "file_extension": ".py",
   "mimetype": "text/x-python",
   "name": "python",
   "nbconvert_exporter": "python",
   "pygments_lexer": "ipython3",
   "version": "3.6.3"
  }
 },
 "nbformat": 4,
 "nbformat_minor": 2
}
