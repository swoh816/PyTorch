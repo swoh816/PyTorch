{
 "cells": [
  {
   "cell_type": "markdown",
   "metadata": {},
   "source": [
    "# Getting started\n",
    "\n",
    "\n",
    "## 1. Basics and Tips\n",
    "### 1.1 Matrix handling"
   ]
  },
  {
   "cell_type": "code",
   "execution_count": 1,
   "metadata": {
    "collapsed": true
   },
   "outputs": [],
   "source": [
    "import torch as tc\n",
    "import numpy as np"
   ]
  },
  {
   "cell_type": "markdown",
   "metadata": {},
   "source": [
    "**Uninitalized** matrix"
   ]
  },
  {
   "cell_type": "code",
   "execution_count": 9,
   "metadata": {},
   "outputs": [
    {
     "name": "stdout",
     "output_type": "stream",
     "text": [
      "\n",
      " 2.5922e+13  4.5652e-41  2.5922e+13\n",
      " 4.5652e-41  1.6255e-43  1.3873e-43\n",
      " 6.4460e-44  1.1771e-43  1.4153e-43\n",
      " 1.5414e-43  1.6115e-43  1.5554e-43\n",
      " 1.5975e-43  5.6052e-44  7.4269e-44\n",
      "[torch.FloatTensor of size 5x3]\n",
      "\n",
      "Size:  torch.Size([5, 3])\n"
     ]
    }
   ],
   "source": [
    "x = tc.Tensor(5,3)\n",
    "print(x)\n",
    "print('Size: ', x.size())"
   ]
  },
  {
   "cell_type": "markdown",
   "metadata": {},
   "source": [
    "Randomly **initialized** matrix"
   ]
  },
  {
   "cell_type": "code",
   "execution_count": 10,
   "metadata": {},
   "outputs": [
    {
     "name": "stdout",
     "output_type": "stream",
     "text": [
      "\n",
      " 0.6224  0.4663  0.0840\n",
      " 0.5465  0.1123  0.2803\n",
      " 0.6924  0.6039  0.0324\n",
      " 0.6467  0.1523  0.7038\n",
      " 0.1183  0.9404  0.5563\n",
      "[torch.FloatTensor of size 5x3]\n",
      "\n",
      "Size:  torch.Size([5, 3])\n"
     ]
    }
   ],
   "source": [
    "y = tc.rand(5,3)\n",
    "print(y)\n",
    "print('Size: ', y.size())"
   ]
  },
  {
   "cell_type": "markdown",
   "metadata": {},
   "source": [
    "Resize a matrix using `torch.view`"
   ]
  },
  {
   "cell_type": "code",
   "execution_count": 36,
   "metadata": {},
   "outputs": [
    {
     "name": "stdout",
     "output_type": "stream",
     "text": [
      "\n",
      " 0.4447\n",
      " 0.2037\n",
      " 0.4857\n",
      " 0.5805\n",
      " 0.1714\n",
      " 0.3691\n",
      " 0.0134\n",
      " 0.8947\n",
      " 0.4868\n",
      " 0.6632\n",
      " 0.6406\n",
      " 0.8319\n",
      " 0.6264\n",
      " 0.1232\n",
      " 0.6379\n",
      "[torch.FloatTensor of size 15]\n",
      "\n",
      "\n",
      "\n",
      "Columns 0 to 9 \n",
      " 0.4447  0.2037  0.4857  0.5805  0.1714  0.3691  0.0134  0.8947  0.4868  0.6632\n",
      "\n",
      "Columns 10 to 14 \n",
      " 0.6406  0.8319  0.6264  0.1232  0.6379\n",
      "[torch.FloatTensor of size 1x15]\n",
      "\n"
     ]
    }
   ],
   "source": [
    "print(x.view(15))\n",
    "print(x.view(-1,15))"
   ]
  },
  {
   "cell_type": "markdown",
   "metadata": {},
   "source": [
    "### 1.2 Operations"
   ]
  },
  {
   "cell_type": "markdown",
   "metadata": {},
   "source": [
    "The following three operations return the same result"
   ]
  },
  {
   "cell_type": "code",
   "execution_count": 15,
   "metadata": {},
   "outputs": [
    {
     "name": "stdout",
     "output_type": "stream",
     "text": [
      "\n",
      " 2.5922e+13  4.6628e-01  2.5922e+13\n",
      " 5.4649e-01  1.1235e-01  2.8027e-01\n",
      " 6.9240e-01  6.0385e-01  3.2402e-02\n",
      " 6.4666e-01  1.5232e-01  7.0382e-01\n",
      " 1.1834e-01  9.4037e-01  5.5629e-01\n",
      "[torch.FloatTensor of size 5x3]\n",
      "\n",
      "\n",
      " 2.5922e+13  4.6628e-01  2.5922e+13\n",
      " 5.4649e-01  1.1235e-01  2.8027e-01\n",
      " 6.9240e-01  6.0385e-01  3.2402e-02\n",
      " 6.4666e-01  1.5232e-01  7.0382e-01\n",
      " 1.1834e-01  9.4037e-01  5.5629e-01\n",
      "[torch.FloatTensor of size 5x3]\n",
      "\n"
     ]
    },
    {
     "data": {
      "text/plain": [
       "\n",
       " 2.5922e+13  4.6628e-01  2.5922e+13\n",
       " 5.4649e-01  1.1235e-01  2.8027e-01\n",
       " 6.9240e-01  6.0385e-01  3.2402e-02\n",
       " 6.4666e-01  1.5232e-01  7.0382e-01\n",
       " 1.1834e-01  9.4037e-01  5.5629e-01\n",
       "[torch.FloatTensor of size 5x3]"
      ]
     },
     "execution_count": 15,
     "metadata": {},
     "output_type": "execute_result"
    }
   ],
   "source": [
    "print(tc.add(x,y))\n",
    "print(y.add(x))\n",
    "x+y"
   ]
  },
  {
   "cell_type": "markdown",
   "metadata": {},
   "source": [
    "The following two operations are identical"
   ]
  },
  {
   "cell_type": "code",
   "execution_count": 17,
   "metadata": {},
   "outputs": [
    {
     "name": "stdout",
     "output_type": "stream",
     "text": [
      "\n",
      " 2.5922e+13  4.6628e-01  2.5922e+13\n",
      " 5.4649e-01  1.1235e-01  2.8027e-01\n",
      " 6.9240e-01  6.0385e-01  3.2402e-02\n",
      " 6.4666e-01  1.5232e-01  7.0382e-01\n",
      " 1.1834e-01  9.4037e-01  5.5629e-01\n",
      "[torch.FloatTensor of size 5x3]\n",
      "\n",
      "\n",
      " 2.5922e+13  4.6628e-01  2.5922e+13\n",
      " 5.4649e-01  1.1235e-01  2.8027e-01\n",
      " 6.9240e-01  6.0385e-01  3.2402e-02\n",
      " 6.4666e-01  1.5232e-01  7.0382e-01\n",
      " 1.1834e-01  9.4037e-01  5.5629e-01\n",
      "[torch.FloatTensor of size 5x3]\n",
      "\n"
     ]
    }
   ],
   "source": [
    "# Simple addition\n",
    "result1 = x + y\n",
    "print(result1)\n",
    "\n",
    "# Specify output\n",
    "result2 = tc.Tensor(5,3)\n",
    "y.add(x, out=result2)\n",
    "print(result2)"
   ]
  },
  {
   "cell_type": "markdown",
   "metadata": {},
   "source": [
    "Any operation that **mutates a tensor in-place** is post-fixed with an `_`."
   ]
  },
  {
   "cell_type": "code",
   "execution_count": 23,
   "metadata": {},
   "outputs": [
    {
     "name": "stdout",
     "output_type": "stream",
     "text": [
      "\n",
      " 0.4447  0.2037  0.4857\n",
      " 0.5805  0.1714  0.3691\n",
      " 0.0134  0.8947  0.4868\n",
      " 0.6632  0.6406  0.8319\n",
      " 0.6264  0.1232  0.6379\n",
      "[torch.FloatTensor of size 5x3]\n",
      "\n",
      "\n",
      " 0.3991  0.4617  0.3226\n",
      " 0.8858  0.2714  0.2992\n",
      " 0.2949  0.0427  0.4851\n",
      " 0.8857  0.1027  0.7830\n",
      " 0.7883  0.0798  0.2078\n",
      "[torch.FloatTensor of size 5x3]\n",
      "\n",
      "\n",
      " 0.8438  0.6654  0.8083\n",
      " 1.4663  0.4428  0.6683\n",
      " 0.3083  0.9374  0.9719\n",
      " 1.5489  0.7434  1.6149\n",
      " 1.4147  0.2029  0.8456\n",
      "[torch.FloatTensor of size 5x3]\n",
      "\n"
     ]
    }
   ],
   "source": [
    "x = tc.rand(5,3)\n",
    "y = tc.rand(5,3)\n",
    "print(x)\n",
    "print(y)\n",
    "y.add_(x)\n",
    "print(y)"
   ]
  },
  {
   "cell_type": "markdown",
   "metadata": {},
   "source": [
    "### 1.3 Conversion between NumPy and Torch"
   ]
  },
  {
   "cell_type": "code",
   "execution_count": 43,
   "metadata": {},
   "outputs": [
    {
     "name": "stdout",
     "output_type": "stream",
     "text": [
      "\n",
      " 1\n",
      " 1\n",
      " 1\n",
      " 1\n",
      " 1\n",
      "[torch.FloatTensor of size 5]\n",
      " [ 1.  1.  1.  1.  1.]\n"
     ]
    }
   ],
   "source": [
    "a = tc.ones(5)\n",
    "b = a.numpy()\n",
    "print(a, b)"
   ]
  },
  {
   "cell_type": "markdown",
   "metadata": {},
   "source": [
    "Modifications on the original torch matrix will also apply to the numpy array."
   ]
  },
  {
   "cell_type": "code",
   "execution_count": 44,
   "metadata": {},
   "outputs": [
    {
     "name": "stdout",
     "output_type": "stream",
     "text": [
      "[ 4.  4.  4.  4.  4.]\n"
     ]
    }
   ],
   "source": [
    "a.add_(3)\n",
    "print(b)"
   ]
  },
  {
   "cell_type": "code",
   "execution_count": 51,
   "metadata": {},
   "outputs": [
    {
     "name": "stdout",
     "output_type": "stream",
     "text": [
      "[ 1.  1.  1.  1.  1.] \n",
      " 1\n",
      " 1\n",
      " 1\n",
      " 1\n",
      " 1\n",
      "[torch.DoubleTensor of size 5]\n",
      "\n"
     ]
    }
   ],
   "source": [
    "a = np.ones(5)\n",
    "b = tc.from_numpy(a)\n",
    "print(a,b)"
   ]
  },
  {
   "cell_type": "markdown",
   "metadata": {},
   "source": [
    "Operations on the original numpy matrix will also apply to the torch matrix."
   ]
  },
  {
   "cell_type": "code",
   "execution_count": 52,
   "metadata": {},
   "outputs": [
    {
     "name": "stdout",
     "output_type": "stream",
     "text": [
      "[ 2.  2.  2.  2.  2.] \n",
      " 2\n",
      " 2\n",
      " 2\n",
      " 2\n",
      " 2\n",
      "[torch.DoubleTensor of size 5]\n",
      "\n"
     ]
    }
   ],
   "source": [
    "np.add(a, 1, out=a)\n",
    "print(a, b)"
   ]
  },
  {
   "cell_type": "markdown",
   "metadata": {},
   "source": [
    "## 2. Variable and gradients\n",
    "\n",
    "`PyTorch` uses `torch.autograd.Variable` for variable, on which you can define all of operations.\n",
    "\n",
    "### 2.1 Variable"
   ]
  },
  {
   "cell_type": "code",
   "execution_count": 55,
   "metadata": {},
   "outputs": [],
   "source": [
    "from torch.autograd import Variable"
   ]
  },
  {
   "cell_type": "code",
   "execution_count": 58,
   "metadata": {},
   "outputs": [
    {
     "name": "stdout",
     "output_type": "stream",
     "text": [
      "Variable containing:\n",
      " 1  1\n",
      " 1  1\n",
      "[torch.FloatTensor of size 2x2]\n",
      "\n"
     ]
    }
   ],
   "source": [
    "x = Variable(tc.ones(2,2), requires_grad = True)\n",
    "print(x)"
   ]
  },
  {
   "cell_type": "code",
   "execution_count": 61,
   "metadata": {},
   "outputs": [
    {
     "name": "stdout",
     "output_type": "stream",
     "text": [
      "Variable containing:\n",
      " 3  3\n",
      " 3  3\n",
      "[torch.FloatTensor of size 2x2]\n",
      "\n"
     ]
    }
   ],
   "source": [
    "y = x + 2\n",
    "print(y)"
   ]
  },
  {
   "cell_type": "code",
   "execution_count": null,
   "metadata": {
    "collapsed": true
   },
   "outputs": [],
   "source": []
  }
 ],
 "metadata": {
  "kernelspec": {
   "display_name": "Python 3",
   "language": "python",
   "name": "python3"
  },
  "language_info": {
   "codemirror_mode": {
    "name": "ipython",
    "version": 3
   },
   "file_extension": ".py",
   "mimetype": "text/x-python",
   "name": "python",
   "nbconvert_exporter": "python",
   "pygments_lexer": "ipython3",
   "version": "3.6.3"
  }
 },
 "nbformat": 4,
 "nbformat_minor": 2
}
